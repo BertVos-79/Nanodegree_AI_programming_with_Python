{
 "cells": [
  {
   "cell_type": "markdown",
   "metadata": {},
   "source": [
    "## Quiz: Analyzing AI Model Output Text\n",
    "### Scenario:\n",
    "You are analyzing the output of an AI model from a recent project. You need to answer specific questions about the text using string methods.\n",
    "\n",
    "### Task:\n",
    "Answer the following questions about the string variable model_output:\n",
    "\n",
    "1. What is the length of the string variable model_output?\n",
    "2. What is the index of the first occurrence of the word 'accuracy' in model_output?\n",
    "3. What is the index of the last occurrence of the word 'model' in model_output?\n",
    "4. What is the count of occurrences of the word 'model' in model_output?\n",
    "5. Tokenize the model_output into individual words.\n",
    "6. Perform a basic sentiment analysis by counting the number of positive and negative words in the model_output."
   ]
  },
  {
   "cell_type": "code",
   "execution_count": null,
   "metadata": {},
   "outputs": [],
   "source": [
    "model_output = \"The AI model achieved an accuracy of 92.5% in the initial tests.\\nThe model's performance was consistent across different datasets.\\nFurther tuning of the model hyperparameters improved the accuracy to 94%.\\nThis model is now ready for deployment in the production environment.\\nModel performance will be monitored continuously to ensure it meets the expected standards.\"\n",
    "\n",
    "print(model_output)\n",
    "\n",
    "# Answer the questions\n",
    "length_of_model_output = # TODO\n",
    "index_first_accuracy = # TODO\n",
    "index_last_model = # TODO\n",
    "count_model = # TODO\n",
    "\n",
    "# Tokenize the model_output into individual words\n",
    "tokens = # TODO\n",
    "\n",
    "# Perform a basic sentiment analysis\n",
    "positive_words = ['achieved', 'consistent', 'improved', 'ready', 'meets']\n",
    "negative_words = ['monitored']\n",
    "\n",
    "count_positive = # TODO\n",
    "count_negative = # TODO\n",
    "print(\"-\"*50)\n",
    "# Output your answers in descriptive messages\n",
    "print(\"The length of the model output string is {} characters.\".format(length_of_model_output))\n",
    "print(\"The first occurrence of the word 'accuracy' is at index {}.\".format(index_first_accuracy))\n",
    "print(\"The last occurrence of the word 'model' is at index {}.\".format(index_last_model))\n",
    "print(\"The word 'model' occurs {} times in the model output.\".format(count_model))\n",
    "print(\"The tokenized model output is: {}\".format(tokens))\n",
    "print(\"The number of positive words is: {}\".format(count_positive))\n",
    "print(\"The number of negative words is: {}\".format(count_negative))"
   ]
  },
  {
   "cell_type": "markdown",
   "metadata": {},
   "source": [
    "**About Sentiment Analysis**\n",
    "\n",
    "Sentiment analysis is a natural language processing (NLP) technique used to determine the sentiment expressed in a piece of text. It involves classifying text as positive, negative, or neutral based on the words and context. Sentiment analysis is commonly used to analyze customer feedback, social media posts, and product reviews to gauge public opinion and understand how people feel about a particular subject or entity."
   ]
  }
 ],
 "metadata": {
  "kernelspec": {
   "display_name": "Python 3 (ipykernel)",
   "language": "python",
   "name": "python3"
  },
  "language_info": {
   "codemirror_mode": {
    "name": "ipython",
    "version": 3
   },
   "file_extension": ".py",
   "mimetype": "text/x-python",
   "name": "python",
   "nbconvert_exporter": "python",
   "pygments_lexer": "ipython3",
   "version": "3.10.13"
  }
 },
 "nbformat": 4,
 "nbformat_minor": 2
}
