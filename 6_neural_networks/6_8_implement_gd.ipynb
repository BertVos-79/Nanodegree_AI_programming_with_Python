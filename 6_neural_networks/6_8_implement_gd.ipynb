{
 "cells": [
  {
   "cell_type": "code",
   "execution_count": 4,
   "metadata": {
    "grader_id": "fhbdry10its"
   },
   "outputs": [
    {
     "name": "stdout",
     "output_type": "stream",
     "text": [
      "Train loss: 0.262761\n",
      "Train loss: 0.209286\n",
      "Train loss: 0.200843\n",
      "Train loss: 0.198622\n",
      "Train loss: 0.197799\n",
      "Train loss: 0.197426\n",
      "Train loss: 0.197235\n",
      "Train loss: 0.197129\n",
      "Train loss: 0.197068\n",
      "Train loss: 0.197030\n",
      "Prediction accuracy: 0.725\n"
     ]
    }
   ],
   "source": [
    "import numpy as np\n",
    "from data_prep import features, targets, features_test, targets_test\n",
    "\n",
    "def sigmoid(x):\n",
    "    \"\"\"\n",
    "    Calculate sigmoid function.\n",
    "    \"\"\"\n",
    "    return 1 / (1 + np.exp(-np.array(x, dtype=float)))\n",
    "\n",
    "def sigmoid_prime(x):\n",
    "    \"\"\"\n",
    "    Derivative of the sigmoid function.\n",
    "    \"\"\"\n",
    "    return sigmoid(x) * (1 - sigmoid(x))\n",
    "\n",
    "# Set a random seed for reproducibility\n",
    "np.random.seed(42)\n",
    "\n",
    "# Get the number of records and features\n",
    "n_records, n_features = features.shape\n",
    "last_loss = None\n",
    "\n",
    "# Initialize weights using a normal distribution\n",
    "weights = np.random.normal(scale=1 / n_features**0.5, size=n_features)\n",
    "\n",
    "# Neural Network Hyperparameters\n",
    "epochs = 1000  # Number of iterations\n",
    "learnrate = 0.5  # Learning rate\n",
    "\n",
    "for e in range(epochs):\n",
    "    del_w = np.zeros(weights.shape)  # Initialize weight change accumulator\n",
    "\n",
    "    for x, y in zip(features.values, targets):\n",
    "        x = x.astype(float)  # Convert input to float to prevent type errors\n",
    "\n",
    "        # Calculate the output\n",
    "        output = sigmoid(np.dot(x, weights))\n",
    "\n",
    "        # Calculate the error\n",
    "        error = y - output\n",
    "\n",
    "        # Calculate the error term\n",
    "        error_term = error * sigmoid_prime(np.dot(x, weights))\n",
    "\n",
    "        # Accumulate weight changes\n",
    "        del_w += error_term * x  \n",
    "\n",
    "    # Update weights using the learning rate and the average change in weights\n",
    "    weights += learnrate * del_w / n_records  \n",
    "\n",
    "    # Monitor training loss\n",
    "    if e % (epochs / 10) == 0:\n",
    "        out = sigmoid(np.dot(features, weights))\n",
    "        loss = np.mean((out - targets) ** 2)  # Compute Mean Squared Error\n",
    "        if last_loss and last_loss < loss:\n",
    "            print(f\"Train loss: {loss:.6f}  WARNING - Loss Increasing\")\n",
    "        else:\n",
    "            print(f\"Train loss: {loss:.6f}\")\n",
    "        last_loss = loss\n",
    "\n",
    "# Evaluate accuracy on test data\n",
    "tes_out = sigmoid(np.dot(features_test, weights))\n",
    "predictions = tes_out > 0.5\n",
    "accuracy = np.mean(predictions == targets_test)\n",
    "\n",
    "print(f\"Prediction accuracy: {accuracy:.3f}\")\n"
   ]
  },
  {
   "cell_type": "code",
   "execution_count": null,
   "metadata": {},
   "outputs": [],
   "source": []
  }
 ],
 "metadata": {
  "kernelspec": {
   "display_name": "Python 3 (ipykernel)",
   "language": "python",
   "name": "python3"
  },
  "language_info": {
   "codemirror_mode": {
    "name": "ipython",
    "version": 3
   },
   "file_extension": ".py",
   "mimetype": "text/x-python",
   "name": "python",
   "nbconvert_exporter": "python",
   "pygments_lexer": "ipython3",
   "version": "3.8.18"
  }
 },
 "nbformat": 4,
 "nbformat_minor": 4
}
