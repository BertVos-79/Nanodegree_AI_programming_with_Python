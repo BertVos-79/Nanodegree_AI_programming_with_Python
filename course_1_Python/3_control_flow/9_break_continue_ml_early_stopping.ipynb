{
 "cells": [
  {
   "cell_type": "markdown",
   "metadata": {},
   "source": [
    "## Problem Statement\n",
    "\n",
    "You are training a machine learning model, and you want to stop the training process if the validation loss does not improve for a certain number of epochs. You have a list of tuples where each tuple represents an epoch's performance, with the first element being the epoch number and the second element being the validation loss.\n",
    "\n",
    "**List of Epoch Performances:**\n",
    "```python\n",
    "epoch_performances = [(1, 0.5), (2, 0.45), (3, 0.47), (4, 0.44), (5, 0.43), (6, 0.42), (7, 0.44), (8, 0.41), (9, 0.42), (10, 0.43)]\n",
    "```\n",
    "\n",
    "You need to implement two methods to stop the training:\n",
    "\n",
    "1. **Method 1:** Stop the training immediately when the validation loss increases compared to the previous epoch.\n",
    "2. **Method 2:** Stop the training when the validation loss has not improved for a certain number of epochs (`patience`).\n",
    "\n",
    "### Instructions\n",
    "\n",
    "1. **Method 1: Immediate Stop**\n",
    "\n",
    "   Write a loop that iterates through the `epoch_performances` list and stops immediately when the validation loss increases compared to the previous epoch.\n",
    "\n",
    "\n",
    "2. **Method 2: validation loss has not improved for a specified number of epochs**\n",
    "\n",
    "   Write a loop that iterates through the `epoch_performances` list and stops when the validation loss has not improved for a specified number of epochs (`patience`).\n",
    "\n",
    "\n",
    "3. **Output:**\n",
    "\n",
    "   Both methods should output the number of epochs run and the reason for stopping.\n",
    "\n",
    "### Explanation\n",
    "\n",
    "- **Early Stopping:** A technique used to halt training when the model starts to overfit the training data.\n",
    "- **Validation Loss:** A measure of how well the model performs on a validation dataset.\n",
    "- **Patience:** The number of epochs to wait for an improvement in validation loss before stopping the training.\n",
    "\n",
    "These methods help to understand the importance of monitoring model performance and stopping the training process to avoid overfitting.\n"
   ]
  },
  {
   "cell_type": "code",
   "execution_count": 28,
   "metadata": {},
   "outputs": [],
   "source": [
    "epoch_performances = [(1, 0.5), (2, 0.45), (3, 0.47), (4, 0.44), (5, 0.43), (6, 0.42), (7, 0.44), (8, 0.41), (9, 0.42), (10, 0.43)]"
   ]
  },
  {
   "cell_type": "code",
   "execution_count": 29,
   "metadata": {},
   "outputs": [
    {
     "name": "stdout",
     "output_type": "stream",
     "text": [
      "(3, 0.47)\n",
      "2\n",
      "Number of epochs: 2; reason for stopping: validation loss increases compared to the previous epoch\n"
     ]
    }
   ],
   "source": [
    "# Method immediate stop\n",
    "loss = 1\n",
    "\n",
    "\n",
    "\n",
    "method_1 = \"validation loss increases compared to the previous epoch\"\n",
    "retained_epochs = []\n",
    "for epoch,loss in epoch_performances:\n",
    "    if epoch > 1:\n",
    "        if loss > epoch_performances[epoch-2][1]:\n",
    "            break\n",
    "        else:\n",
    "            print(epoch_performances[epoch])\n",
    "            print(epoch)\n",
    "            retained_epochs.append((epoch,loss))\n",
    "    else:\n",
    "        retained_epochs.append((epoch,loss))\n",
    "\n",
    "print(f\"Number of epochs: {len(retained_epochs)}; reason for stopping: {method_1}\")\n",
    "     "
   ]
  },
  {
   "cell_type": "code",
   "execution_count": 30,
   "metadata": {},
   "outputs": [
    {
     "name": "stdout",
     "output_type": "stream",
     "text": [
      "(3, 0.47)\n",
      "2\n",
      "Number of epochs: 2; reason for stopping: validation loss increases compared to the previous epoch\n"
     ]
    }
   ],
   "source": [
    "# Method patience\n",
    "\n",
    "nr_patience = 3\n",
    "method_2 = f\"validation loss has not improved for a {nr_patience} epochs\"\n",
    "\n",
    "retained_epochs = []\n",
    "for epoch,loss in epoch_performances:\n",
    "    if epoch > 1:\n",
    "        if loss > epoch_performances[epoch-2][1]:\n",
    "            break\n",
    "        else:\n",
    "            print(epoch_performances[epoch])\n",
    "            print(epoch)\n",
    "            retained_epochs.append((epoch,loss))\n",
    "    else:\n",
    "        retained_epochs.append((epoch,loss))\n",
    "\n",
    "print(f\"Number of epochs: {len(retained_epochs)}; reason for stopping: {method_1}\")\n",
    "     "
   ]
  },
  {
   "cell_type": "code",
   "execution_count": null,
   "metadata": {},
   "outputs": [],
   "source": []
  },
  {
   "cell_type": "code",
   "execution_count": null,
   "metadata": {},
   "outputs": [],
   "source": []
  },
  {
   "cell_type": "code",
   "execution_count": 36,
   "metadata": {},
   "outputs": [
    {
     "name": "stdout",
     "output_type": "stream",
     "text": [
      "METHOD 1: Immediate Stop\n",
      "Epoch: 1; Loss: 0.5.\n",
      "Epoch: 2; Loss: 0.45.\n",
      "Epoch: 3; Loss: 0.47.\n",
      "Stopping early at epoch 2 as validation loss increased.\n",
      "Total number of ran epochs: 2\n"
     ]
    }
   ],
   "source": [
    "# Method immediate stop\n",
    "print(\"METHOD 1: Immediate Stop\")\n",
    "nr_epochs = 0\n",
    "best_loss = float(\"inf\")\n",
    "\n",
    "for epoch,loss in epoch_performances:\n",
    "    print(f\"Epoch: {epoch}; Loss: {loss}.\")\n",
    "    if loss < best_loss:\n",
    "        best_loss = loss\n",
    "        nr_epochs += 1\n",
    "    else:\n",
    "        print(f\"Stopping early at epoch {nr_epochs} as validation loss increased.\")        \n",
    "        break\n",
    "\n",
    "print(f\"Total number of ran epochs: {nr_epochs}\")\n",
    "        \n"
   ]
  },
  {
   "cell_type": "code",
   "execution_count": 35,
   "metadata": {},
   "outputs": [
    {
     "name": "stdout",
     "output_type": "stream",
     "text": [
      "Epoch: 1; Loss: 0.5.\n",
      "Epoch: 2; Loss: 0.45.\n",
      "Epoch: 3; Loss: 0.47.\n",
      "Epoch: 4; Loss: 0.44.\n",
      "Epoch: 5; Loss: 0.43.\n",
      "Epoch: 6; Loss: 0.42.\n",
      "Epoch: 7; Loss: 0.44.\n",
      "Epoch: 8; Loss: 0.41.\n",
      "Epoch: 9; Loss: 0.42.\n",
      "Epoch: 10; Loss: 0.43.\n",
      "Stopping early at epoch 9 as validation loss did not improve for 2 epochs.\n",
      "Total number of ran epochs: 9\n"
     ]
    }
   ],
   "source": [
    "# Method patience\n",
    "\n",
    "nr_epochs = 0\n",
    "best_loss = float(\"inf\")\n",
    "set_patience = 2\n",
    "run_patience = 0\n",
    "\n",
    "for epoch,loss in epoch_performances:\n",
    "    print(f\"Epoch: {epoch}; Loss: {loss}.\")\n",
    "    if loss < best_loss:\n",
    "        best_loss = loss\n",
    "        run_patience = 0\n",
    "        nr_epochs += 1\n",
    "    else:\n",
    "        run_patience += 1\n",
    "        if run_patience < set_patience:\n",
    "            nr_epochs += 1\n",
    "        else:\n",
    "            print(f\"Stopping early at epoch {nr_epochs} as validation loss did not improve for {set_patience} epochs.\")        \n",
    "            break\n",
    "\n",
    "print(f\"Total number of ran epochs: {nr_epochs}\")\n",
    "        "
   ]
  },
  {
   "cell_type": "code",
   "execution_count": null,
   "metadata": {},
   "outputs": [],
   "source": []
  },
  {
   "cell_type": "code",
   "execution_count": null,
   "metadata": {},
   "outputs": [],
   "source": []
  },
  {
   "cell_type": "code",
   "execution_count": null,
   "metadata": {},
   "outputs": [],
   "source": []
  },
  {
   "cell_type": "code",
   "execution_count": null,
   "metadata": {},
   "outputs": [],
   "source": []
  },
  {
   "cell_type": "code",
   "execution_count": 17,
   "metadata": {},
   "outputs": [
    {
     "name": "stdout",
     "output_type": "stream",
     "text": [
      "METHOD 1: Immediate Stop\n",
      "Epoch 1 - Validation Loss: 0.5\n",
      "Epoch 2 - Validation Loss: 0.45\n",
      "Epoch 3 - Validation Loss: 0.47\n",
      "Stopping early at epoch 3 as validation loss increased.\n",
      "\n",
      "Total epochs ran: 2\n"
     ]
    }
   ],
   "source": [
    "print(\"METHOD 1: Immediate Stop\")\n",
    "best_loss = float('inf')\n",
    "epochs_ran = 0\n",
    "\n",
    "for epoch, val_loss in epoch_performances:\n",
    "    print(f\"Epoch {epoch} - Validation Loss: {val_loss}\")\n",
    "    if val_loss < best_loss:\n",
    "        best_loss = val_loss\n",
    "        epochs_ran += 1\n",
    "    else:\n",
    "        print(f\"Stopping early at epoch {epoch} as validation loss increased.\")\n",
    "        break\n",
    "\n",
    "print(f\"\\nTotal epochs ran: {epochs_ran}\")"
   ]
  },
  {
   "cell_type": "code",
   "execution_count": 24,
   "metadata": {},
   "outputs": [
    {
     "name": "stdout",
     "output_type": "stream",
     "text": [
      "\n",
      "METHOD 2: Patience\n",
      "Epoch 1 - Validation Loss: 0.5\n",
      "Epoch 2 - Validation Loss: 0.45\n",
      "Epoch 3 - Validation Loss: 0.47\n",
      "Epoch 4 - Validation Loss: 0.44\n",
      "Epoch 5 - Validation Loss: 0.43\n",
      "Epoch 6 - Validation Loss: 0.42\n",
      "Epoch 7 - Validation Loss: 0.44\n",
      "Epoch 8 - Validation Loss: 0.41\n",
      "Epoch 9 - Validation Loss: 0.42\n",
      "Epoch 10 - Validation Loss: 0.43\n",
      "Stopping early at epoch 10 as validation loss did not improve for 2 epochs.\n",
      "\n",
      "Total epochs ran: 9\n"
     ]
    }
   ],
   "source": [
    "   \n",
    "   patience = 2\n",
    "   best_loss = float('inf')\n",
    "   epochs_ran = 0\n",
    "   patience_counter = 0\n",
    "\n",
    "   for epoch, val_loss in epoch_performances:\n",
    "       print(f\"Epoch {epoch} - Validation Loss: {val_loss}\")\n",
    "       if val_loss < best_loss:\n",
    "           best_loss = val_loss\n",
    "           patience_counter = 0\n",
    "           epochs_ran += 1\n",
    "       else:\n",
    "           patience_counter += 1\n",
    "           if patience_counter >= patience:\n",
    "               print(f\"Stopping early at epoch {epoch} as validation loss did not improve for {patience} epochs.\")\n",
    "               break\n",
    "           epochs_ran += 1\n",
    "\n",
    "   print(f\"\\nTotal epochs ran: {epochs_ran}\")"
   ]
  },
  {
   "cell_type": "code",
   "execution_count": null,
   "metadata": {},
   "outputs": [],
   "source": []
  }
 ],
 "metadata": {
  "kernelspec": {
   "display_name": "Python 3 (ipykernel)",
   "language": "python",
   "name": "python3"
  },
  "language_info": {
   "codemirror_mode": {
    "name": "ipython",
    "version": 3
   },
   "file_extension": ".py",
   "mimetype": "text/x-python",
   "name": "python",
   "nbconvert_exporter": "python",
   "pygments_lexer": "ipython3",
   "version": "3.8.20"
  }
 },
 "nbformat": 4,
 "nbformat_minor": 4
}
