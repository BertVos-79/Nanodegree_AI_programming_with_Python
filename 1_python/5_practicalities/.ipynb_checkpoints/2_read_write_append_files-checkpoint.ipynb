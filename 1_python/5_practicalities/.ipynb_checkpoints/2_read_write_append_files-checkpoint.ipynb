{
 "cells": [
  {
   "cell_type": "code",
   "execution_count": null,
   "metadata": {},
   "outputs": [],
   "source": [
    "def create_scientist_list(filename):\n",
    "    \"\"\"Reads the file and extracts a list of AI scientist names.\"\"\"\n",
    "    scientist_list = []\n",
    "    #use with to open the file filename\n",
    "    #use the for loop syntax to process each line\n",
    "    #and add the scientist name to scientist_list\n",
    "    return scientist_list\n",
    "\n",
    "# Create scientist list from the file\n",
    "scientist_list = create_scientist_list('ai_scientists.txt')\n",
    "\n",
    "# The correct result list for grading\n",
    "correct_result = [\n",
    "    'Alan Turing', 'Barbara Grosz', 'Cynthia Dwork', 'Daphne Koller', 'Erik Brynjolfsson', 'Fei-Fei Li',\n",
    "    'Geoffrey Hinton', 'Hilary Mason', 'Ian Goodfellow', 'Judea Pearl', 'Kunihiko Fukushima', 'Leslie Valiant',\n",
    "    'Marvin Minsky', 'Nando de Freitas', 'Oren Etzioni', 'Peter Norvig', 'Qiang Yang', 'Rodney Brooks',\n",
    "    'Stuart Russell', 'Tim Berners-Lee', 'Ursula Martin', 'Vladimir Vapnik', 'Wendy Hall', 'Xiaojin Zhu',\n",
    "    'Yann LeCun', 'Zoubin Ghahramani'\n",
    "]\n",
    "\n",
    "# Notebook grading\n",
    "if scientist_list == correct_result:\n",
    "    print(\"Well done!\")\n",
    "else:\n",
    "    print(\"Your code produced the wrong result when running on the `ai_scientists.txt`.\")\n"
   ]
  }
 ],
 "metadata": {
  "kernelspec": {
   "display_name": "Python 3 (ipykernel)",
   "language": "python",
   "name": "python3"
  },
  "language_info": {
   "codemirror_mode": {
    "name": "ipython",
    "version": 3
   },
   "file_extension": ".py",
   "mimetype": "text/x-python",
   "name": "python",
   "nbconvert_exporter": "python",
   "pygments_lexer": "ipython3",
   "version": "3.10.13"
  }
 },
 "nbformat": 4,
 "nbformat_minor": 2
}
