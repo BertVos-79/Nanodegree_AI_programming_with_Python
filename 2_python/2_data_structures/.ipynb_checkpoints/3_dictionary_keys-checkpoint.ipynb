{
 "cells": [
  {
   "cell_type": "markdown",
   "metadata": {},
   "source": [
    "## Quiz: Valid Dictionary for AI Model Architectures\n",
    "\n",
    "In this exercise, you will correct an invalid dictionary that maps AI model researchers to their research topics. In Python, dictionary keys must be immutable types, such as strings or tuples. Lists, being mutable, cannot be used as dictionary keys.\n",
    "\n",
    "Here is the invalid dictionary provided:"
   ]
  },
  {
   "cell_type": "code",
   "execution_count": null,
   "metadata": {},
   "outputs": [],
   "source": [
    "# invalid dictionary - this should break\n",
    "research_topics = {\n",
    "    ['AlexNet', 'Convolutional Neural Network']: 'Image Classification',\n",
    "    ['VGG', 'Visual Geometry Group']: 'Deep Learning',\n",
    "    ['ResNet', 'Residual Networks']: 'Network Architecture'\n",
    "}\n"
   ]
  },
  {
   "cell_type": "code",
   "execution_count": null,
   "metadata": {},
   "outputs": [],
   "source": [
    "# corrected dictionary using tuples as keys\n",
    "research_topics = {\n",
    "    ('AlexNet', 'Convolutional Neural Network'): 'Image Classification',\n",
    "    ('VGG', 'Visual Geometry Group'): 'Deep Learning',\n",
    "    ('ResNet', 'Residual Networks'): 'Network Architecture'\n",
    "}\n",
    "\n",
    "# Verify the corrected dictionary\n",
    "print(research_topics)\n"
   ]
  },
  {
   "cell_type": "markdown",
   "metadata": {},
   "source": [
    "### Explanation:\n",
    "\n",
    "* In the invalid dictionary, lists are used as keys, which causes an error because lists are mutable and cannot be used as dictionary keys.\n",
    "* The corrected dictionary uses tuples instead of lists for the keys. Tuples are immutable and can be used as dictionary keys."
   ]
  }
 ],
 "metadata": {
  "kernelspec": {
   "display_name": "Python 3 (ipykernel)",
   "language": "python",
   "name": "python3"
  },
  "language_info": {
   "codemirror_mode": {
    "name": "ipython",
    "version": 3
   },
   "file_extension": ".py",
   "mimetype": "text/x-python",
   "name": "python",
   "nbconvert_exporter": "python",
   "pygments_lexer": "ipython3",
   "version": "3.10.13"
  }
 },
 "nbformat": 4,
 "nbformat_minor": 2
}
