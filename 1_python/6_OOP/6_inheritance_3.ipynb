{
 "cells": [
  {
   "cell_type": "markdown",
   "metadata": {},
   "source": [
    "# Inheritance with the Gaussian Class\n",
    "\n",
    "The Gaussian distribution code is refactored into a generic Distribution class and a Gaussian distribution class. \n",
    "\n",
    "The Distribution class takes care of the initialization and the read_data_file method. Then the rest of the Gaussian code is in the Gaussian class.\n"
   ]
  },
  {
   "cell_type": "code",
   "execution_count": 1,
   "metadata": {},
   "outputs": [],
   "source": [
    "class Distribution:\n",
    "    def __init__(self, mu=0, sigma=1):\n",
    "        \"\"\"Generic distribution class for calculating and visualizing a probability distribution.\n",
    "        \n",
    "        Attributes:\n",
    "            mean (float): mean value of the distribution\n",
    "            stdev (float): standard deviation of the distribution\n",
    "            data (list of floats): list of floats extracted from the data file\n",
    "        \"\"\"\n",
    "        self.mean = mu\n",
    "        self.stdev = sigma\n",
    "        self.data = []\n",
    "\n",
    "    def read_data_file(self, file_name):\n",
    "        \"\"\"Reads in data from a txt file and stores it in the data attribute.\n",
    "        \n",
    "        Args:\n",
    "            file_name (str): name of the file to read from\n",
    "        \n",
    "        Returns:\n",
    "            None\n",
    "        \"\"\"\n",
    "        with open(file_name) as file:\n",
    "            self.data = [float(line.strip()) for line in file]"
   ]
  },
  {
   "cell_type": "code",
   "execution_count": 2,
   "metadata": {},
   "outputs": [],
   "source": [
    "import math\n",
    "import matplotlib.pyplot as plt\n",
    "\n",
    "class Gaussian(Distribution):\n",
    "    \"\"\"Gaussian distribution class for calculating and visualizing a Gaussian distribution.\"\"\"\n",
    "    \n",
    "    def __init__(self, mu=0, sigma=1):\n",
    "        super().__init__(mu, sigma)\n",
    "\n",
    "    def calculate_mean(self):\n",
    "        \"\"\"Calculates the mean of the data set.\"\"\"\n",
    "        self.mean = sum(self.data) / len(self.data)\n",
    "        return self.mean\n",
    "\n",
    "    def calculate_stdev(self, sample=True):\n",
    "        \"\"\"Calculates the standard deviation of the data set.\"\"\"\n",
    "        n = len(self.data) - 1 if sample else len(self.data)\n",
    "        mean = self.calculate_mean()\n",
    "        variance = sum((d - mean) ** 2 for d in self.data) / n\n",
    "        self.stdev = math.sqrt(variance)\n",
    "        return self.stdev\n",
    "\n",
    "    def plot_histogram(self):\n",
    "        \"\"\"Outputs a histogram of the instance variable data.\"\"\"\n",
    "        plt.hist(self.data, bins=30, color='skyblue', edgecolor='black')\n",
    "        plt.title('Histogram of Data')\n",
    "        plt.xlabel('Data')\n",
    "        plt.ylabel('Count')\n",
    "        plt.show()\n",
    "\n",
    "    def pdf(self, x):\n",
    "        \"\"\"Calculates the probability density function for the Gaussian distribution.\"\"\"\n",
    "        return (1.0 / (self.stdev * math.sqrt(2 * math.pi))) * math.exp(-0.5 * ((x - self.mean) / self.stdev) ** 2)\n",
    "\n",
    "    def plot_histogram_pdf(self, n_spaces=50):\n",
    "        \"\"\"Plots the normalized histogram of the data and a plot of the PDF.\"\"\"\n",
    "        min_range = min(self.data)\n",
    "        max_range = max(self.data)\n",
    "        x = [min_range + i * (max_range - min_range) / n_spaces for i in range(n_spaces)]\n",
    "        y = [self.pdf(val) for val in x]\n",
    "\n",
    "        fig, axes = plt.subplots(2, sharex=True)\n",
    "        fig.subplots_adjust(hspace=0.5)\n",
    "\n",
    "        axes[0].hist(self.data, bins=30, density=True, color='skyblue', edgecolor='black')\n",
    "        axes[0].set_title('Normalized Histogram of Data')\n",
    "        axes[0].set_ylabel('Density')\n",
    "\n",
    "        axes[1].plot(x, y, color='red')\n",
    "        axes[1].set_title('PDF for Sample Mean and Standard Deviation')\n",
    "        axes[1].set_ylabel('Density')\n",
    "        axes[1].set_xlabel('Data')\n",
    "\n",
    "        plt.show()\n",
    "\n",
    "        return x, y\n",
    "\n",
    "    def __add__(self, other):\n",
    "        \"\"\"Adds two Gaussian distributions and returns a new Gaussian.\"\"\"\n",
    "        if not isinstance(other, Gaussian):\n",
    "            raise TypeError(\"Operand must be an instance of Gaussian\")\n",
    "\n",
    "        result = Gaussian(\n",
    "            self.mean + other.mean,\n",
    "            math.sqrt(self.stdev ** 2 + other.stdev ** 2)\n",
    "        )\n",
    "        return result\n",
    "\n",
    "    def __repr__(self):\n",
    "        \"\"\"Returns the string representation of the Gaussian instance.\"\"\"\n",
    "        return f\"mean {self.mean}, standard deviation {self.stdev:.2f}\""
   ]
  },
  {
   "cell_type": "code",
   "execution_count": 3,
   "metadata": {},
   "outputs": [
    {
     "data": {
      "text/plain": [
       "92.87459776004906"
      ]
     },
     "execution_count": 3,
     "metadata": {},
     "output_type": "execute_result"
    }
   ],
   "source": [
    "# initialize two gaussian distributions\n",
    "gaussian_one = Gaussian(25, 3)\n",
    "gaussian_two = Gaussian(30, 2)\n",
    "\n",
    "# initialize a third gaussian distribution reading in a data efile\n",
    "gaussian_three = Gaussian()\n",
    "gaussian_three.read_data_file('numbers.txt')\n",
    "gaussian_three.calculate_mean()\n",
    "gaussian_three.calculate_stdev()"
   ]
  },
  {
   "cell_type": "code",
   "execution_count": 4,
   "metadata": {},
   "outputs": [
    {
     "name": "stdout",
     "output_type": "stream",
     "text": [
      "25\n",
      "30\n",
      "3\n",
      "2\n",
      "78.0909090909091\n",
      "92.87459776004906\n"
     ]
    }
   ],
   "source": [
    "# print out the mean and standard deviations\n",
    "print(gaussian_one.mean)\n",
    "print(gaussian_two.mean)\n",
    "\n",
    "print(gaussian_one.stdev)\n",
    "print(gaussian_two.stdev)\n",
    "\n",
    "print(gaussian_three.mean)\n",
    "print(gaussian_three.stdev)"
   ]
  },
  {
   "cell_type": "code",
   "execution_count": 5,
   "metadata": {},
   "outputs": [
    {
     "data": {
      "image/png": "[encoded data removed]",
      "text/plain": [
       "<Figure size 640x480 with 2 Axes>"
      ]
     },
     "metadata": {},
     "output_type": "display_data"
    },
    {
     "data": {
      "text/plain": [
       "([1.0,\n",
       "  7.58,\n",
       "  14.16,\n",
       "  20.74,\n",
       "  27.32,\n",
       "  33.9,\n",
       "  40.48,\n",
       "  47.06,\n",
       "  53.64,\n",
       "  60.22,\n",
       "  66.8,\n",
       "  73.38,\n",
       "  79.96,\n",
       "  86.54,\n",
       "  93.12,\n",
       "  99.7,\n",
       "  106.28,\n",
       "  112.86,\n",
       "  119.44,\n",
       "  126.02,\n",
       "  132.6,\n",
       "  139.18,\n",
       "  145.76,\n",
       "  152.34,\n",
       "  158.92,\n",
       "  165.5,\n",
       "  172.08,\n",
       "  178.66,\n",
       "  185.24,\n",
       "  191.82,\n",
       "  198.4,\n",
       "  204.98,\n",
       "  211.56,\n",
       "  218.14,\n",
       "  224.72,\n",
       "  231.3,\n",
       "  237.88,\n",
       "  244.46,\n",
       "  251.04,\n",
       "  257.62,\n",
       "  264.2,\n",
       "  270.78,\n",
       "  277.36,\n",
       "  283.94,\n",
       "  290.52,\n",
       "  297.1,\n",
       "  303.68,\n",
       "  310.26,\n",
       "  316.84,\n",
       "  323.42],\n",
       " [0.0030436941280150395,\n",
       "  0.0032199635775976665,\n",
       "  0.003389385629106679,\n",
       "  0.003549858809298968,\n",
       "  0.0036993144412822716,\n",
       "  0.0038357605437130374,\n",
       "  0.003957325730527453,\n",
       "  0.004062301768846044,\n",
       "  0.004149183447609647,\n",
       "  0.004216704458941581,\n",
       "  0.004263868097796145,\n",
       "  0.004289971740008139,\n",
       "  0.004294624258609417,\n",
       "  0.004277755775037969,\n",
       "  0.0042396194054553134,\n",
       "  0.004180784941175556,\n",
       "  0.004102124683731816,\n",
       "  0.004004791926750454,\n",
       "  0.0038901928264981145,\n",
       "  0.003759952619833299,\n",
       "  0.003615877323227138,\n",
       "  0.0034599121726495113,\n",
       "  0.003294098137140098,\n",
       "  0.003120527857220398,\n",
       "  0.002941302324101446,\n",
       "  0.002758489530620572,\n",
       "  0.002574086195982893,\n",
       "  0.002389983501515617,\n",
       "  0.002207937582926008,\n",
       "  0.0020295453159204953,\n",
       "  0.001856225716626904,\n",
       "  0.0016892070658496405,\n",
       "  0.0015295196657229566,\n",
       "  0.001377993956504497,\n",
       "  0.0012352635662074894,\n",
       "  0.0011017727408934497,\n",
       "  0.000977787511300198,\n",
       "  0.0008634098928327342,\n",
       "  0.0007585943899081439,\n",
       "  0.0006631660798856831,\n",
       "  0.0005768395828224327,\n",
       "  0.0004992382767035358,\n",
       "  0.0004299131886951978,\n",
       "  0.0003683610762264406,\n",
       "  0.0003140413022577166,\n",
       "  0.00026639120219446516,\n",
       "  0.00022483973132287702,\n",
       "  0.00018881926781767698,\n",
       "  0.00015777552448225935,\n",
       "  0.0001311755903990334])"
      ]
     },
     "execution_count": 5,
     "metadata": {},
     "output_type": "execute_result"
    }
   ],
   "source": [
    "# plot histogram of gaussian three\n",
    "gaussian_three.plot_histogram_pdf()"
   ]
  },
  {
   "cell_type": "code",
   "execution_count": 6,
   "metadata": {},
   "outputs": [
    {
     "data": {
      "text/plain": [
       "mean 55, standard deviation 3.61"
      ]
     },
     "execution_count": 6,
     "metadata": {},
     "output_type": "execute_result"
    }
   ],
   "source": [
    "# add gaussian_one and gaussian_two together\n",
    "gaussian_one + gaussian_two"
   ]
  }
 ],
 "metadata": {
  "kernelspec": {
   "display_name": "Python 3 (ipykernel)",
   "language": "python",
   "name": "python3"
  },
  "language_info": {
   "codemirror_mode": {
    "name": "ipython",
    "version": 3
   },
   "file_extension": ".py",
   "mimetype": "text/x-python",
   "name": "python",
   "nbconvert_exporter": "python",
   "pygments_lexer": "ipython3",
   "version": "3.8.18"
  }
 },
 "nbformat": 4,
 "nbformat_minor": 2
}
