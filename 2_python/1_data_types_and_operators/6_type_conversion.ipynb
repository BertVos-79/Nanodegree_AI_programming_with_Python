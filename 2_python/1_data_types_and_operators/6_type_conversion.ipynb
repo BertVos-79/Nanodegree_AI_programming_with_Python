{
 "cells": [
  {
   "cell_type": "markdown",
   "metadata": {
    "grader_id": "4lxttik1h79"
   },
   "source": [
    "## Type Playground\n",
    "Use this programming space below to experiment with types of objects. Don't forget to use `print` to see the output of your code. Click `Run` from the top bar to run the code."
   ]
  },
  {
   "cell_type": "code",
   "execution_count": 3,
   "metadata": {
    "grader_id": "wt2xzg1y5tk"
   },
   "outputs": [
    {
     "name": "stdout",
     "output_type": "stream",
     "text": [
      "<class 'str'>\n",
      "<class 'int'>\n",
      "<class 'float'>\n",
      "<class 'bool'>\n"
     ]
    }
   ],
   "source": [
    "# This is the type play ground\n",
    "\n",
    "print(type(\"Hello, world\"))\n",
    "print(type(56))\n",
    "print(type(78.98))\n",
    "print(type(56<78.98))\n"
   ]
  },
  {
   "cell_type": "markdown",
   "metadata": {},
   "source": [
    "**Understanding Loss in Machine Learning**\n",
    "\n",
    "**Loss** is a measure of how well or poorly a model's predictions match the actual target values. It quantifies the difference between the predicted values and the actual values. The goal of training a machine learning model is to minimize this loss. Lower loss values indicate better model performance. Monitoring loss over time helps in understanding how well the model is learning and adjusting during the training process.\n"
   ]
  },
  {
   "cell_type": "markdown",
   "metadata": {
    "grader_id": "fnbrq6pewa"
   },
   "source": [
    "## Quiz: Total Sales\n",
    "In this quiz, you’ll need to change the types of the input and output data in order to get the result you want.\n",
    "\n",
    "Calculate the total sales for the week from the data provided. Assign the result to a string variable with the form `\"This week's total sales: xxx\"`, where xxx will be the actual total of all the numbers. You’ll need to change the type of the input data in order to calculate that total.\n",
    "\n",
    "**Note**: While assigning `\"This week's total sales: xxx\"`, you need to take care of the spaces to get the correct answer. Don't forget to include a space after the colon `\": \"`."
   ]
  },
  {
   "cell_type": "code",
   "execution_count": 7,
   "metadata": {
    "grader_id": "4tnm4g7x60c"
   },
   "outputs": [
    {
     "name": "stdout",
     "output_type": "stream",
     "text": [
      "This week's total loss: 0.78\n",
      "You calculated the correct sum and formatted the string correctly. Nice work!\n"
     ]
    }
   ],
   "source": [
    "week_loss = {\n",
    "    \"mon_loss\":\"0.15\",\n",
    "    \"tues_loss\":\"0.12\",\n",
    "    \"wed_loss\":\"0.13\",\n",
    "    \"thurs_loss\":\"0.10\",\n",
    "    \"fri_loss\":\"0.11\",\n",
    "    \"sat_loss\":\"0.09\",\n",
    "    \"sun_loss\":\"0.08\"\n",
    "}\n",
    "\n",
    "# TODO: assign the total loss to a string with this format: This week's total loss: xxx\n",
    "# You will probably need to write some lines of code before the assigning statement.\n",
    "\n",
    "def count(lib):\n",
    "    counter = 0\n",
    "    for i in lib:\n",
    "        counter += float(lib[i])\n",
    "    return counter\n",
    "\n",
    "total_loss = count(week_loss)\n",
    "\n",
    "# Format the result string\n",
    "result_string = f\"This week's total loss: {total_loss:.2f}\"\n",
    "print(result_string)\n",
    "\n",
    "### Notebook grading\n",
    "if result_string == \"This week's total loss: 0.78\":\n",
    "    print(\"You calculated the correct sum and formatted the string correctly. Nice work!\")\n",
    "else:\n",
    "    print(\"That doesn't match the solution. The total loss should be 0.78. If that's what you got, check that your string is formatted correctly.\")\n"
   ]
  }
 ],
 "metadata": {
  "kernelspec": {
   "display_name": "Python 3 (ipykernel)",
   "language": "python",
   "name": "python3"
  },
  "language_info": {
   "codemirror_mode": {
    "name": "ipython",
    "version": 3
   },
   "file_extension": ".py",
   "mimetype": "text/x-python",
   "name": "python",
   "nbconvert_exporter": "python",
   "pygments_lexer": "ipython3",
   "version": "3.8.20"
  }
 },
 "nbformat": 4,
 "nbformat_minor": 4
}
