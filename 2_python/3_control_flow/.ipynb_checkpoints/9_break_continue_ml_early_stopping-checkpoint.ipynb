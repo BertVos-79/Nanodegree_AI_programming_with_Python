{
 "cells": [
  {
   "cell_type": "markdown",
   "metadata": {},
   "source": [
    "## Problem Statement\n",
    "\n",
    "You are training a machine learning model, and you want to stop the training process if the validation loss does not improve for a certain number of epochs. You have a list of tuples where each tuple represents an epoch's performance, with the first element being the epoch number and the second element being the validation loss.\n",
    "\n",
    "**List of Epoch Performances:**\n",
    "```python\n",
    "epoch_performances = [(1, 0.5), (2, 0.45), (3, 0.47), (4, 0.44), (5, 0.43), (6, 0.42), (7, 0.44), (8, 0.41), (9, 0.42), (10, 0.43)]\n",
    "```\n",
    "\n",
    "You need to implement two methods to stop the training:\n",
    "\n",
    "1. **Method 1:** Stop the training immediately when the validation loss increases compared to the previous epoch.\n",
    "2. **Method 2:** Stop the training when the validation loss has not improved for a certain number of epochs (`patience`).\n",
    "\n",
    "### Instructions\n",
    "\n",
    "1. **Method 1: Immediate Stop**\n",
    "\n",
    "   Write a loop that iterates through the `epoch_performances` list and stops immediately when the validation loss increases compared to the previous epoch.\n",
    "\n",
    "\n",
    "2. **Method 2: Patience**\n",
    "\n",
    "   Write a loop that iterates through the `epoch_performances` list and stops when the validation loss has not improved for a specified number of epochs (`patience`).\n",
    "\n",
    "\n",
    "3. **Output:**\n",
    "\n",
    "   Both methods should output the number of epochs run and the reason for stopping.\n",
    "\n",
    "### Explanation\n",
    "\n",
    "- **Early Stopping:** A technique used to halt training when the model starts to overfit the training data.\n",
    "- **Validation Loss:** A measure of how well the model performs on a validation dataset.\n",
    "- **Patience:** The number of epochs to wait for an improvement in validation loss before stopping the training.\n",
    "\n",
    "These methods help to understand the importance of monitoring model performance and stopping the training process to avoid overfitting.\n"
   ]
  },
  {
   "cell_type": "code",
   "execution_count": null,
   "metadata": {},
   "outputs": [],
   "source": [
    "epoch_performances = [(1, 0.5), (2, 0.45), (3, 0.47), (4, 0.44), (5, 0.43), (6, 0.42), (7, 0.44), (8, 0.41), (9, 0.42), (10, 0.43)]"
   ]
  },
  {
   "cell_type": "code",
   "execution_count": null,
   "metadata": {},
   "outputs": [],
   "source": [
    "print(\"METHOD 1: Immediate Stop\")\n",
    "best_loss = float('inf')\n",
    "epochs_ran = 0\n",
    "\n",
    "for epoch, val_loss in epoch_performances:\n",
    "    print(f\"Epoch {epoch} - Validation Loss: {val_loss}\")\n",
    "    if val_loss < best_loss:\n",
    "        best_loss = val_loss\n",
    "        epochs_ran += 1\n",
    "    else:\n",
    "        print(f\"Stopping early at epoch {epoch} as validation loss increased.\")\n",
    "        break\n",
    "\n",
    "print(f\"\\nTotal epochs ran: {epochs_ran}\")"
   ]
  },
  {
   "cell_type": "code",
   "execution_count": null,
   "metadata": {},
   "outputs": [],
   "source": [
    "   print(\"\\nMETHOD 2: Patience\")\n",
    "   patience = 2\n",
    "   best_loss = float('inf')\n",
    "   epochs_ran = 0\n",
    "   patience_counter = 0\n",
    "\n",
    "   for epoch, val_loss in epoch_performances:\n",
    "       print(f\"Epoch {epoch} - Validation Loss: {val_loss}\")\n",
    "       if val_loss < best_loss:\n",
    "           best_loss = val_loss\n",
    "           patience_counter = 0\n",
    "           epochs_ran += 1\n",
    "       else:\n",
    "           patience_counter += 1\n",
    "           if patience_counter >= patience:\n",
    "               print(f\"Stopping early at epoch {epoch} as validation loss did not improve for {patience} epochs.\")\n",
    "               break\n",
    "           epochs_ran += 1\n",
    "\n",
    "   print(f\"\\nTotal epochs ran: {epochs_ran}\")"
   ]
  }
 ],
 "metadata": {
  "kernelspec": {
   "display_name": "Python 3 (ipykernel)",
   "language": "python",
   "name": "python3"
  },
  "language_info": {
   "codemirror_mode": {
    "name": "ipython",
    "version": 3
   },
   "file_extension": ".py",
   "mimetype": "text/x-python",
   "name": "python",
   "nbconvert_exporter": "python",
   "pygments_lexer": "ipython3",
   "version": "3.10.13"
  }
 },
 "nbformat": 4,
 "nbformat_minor": 2
}
