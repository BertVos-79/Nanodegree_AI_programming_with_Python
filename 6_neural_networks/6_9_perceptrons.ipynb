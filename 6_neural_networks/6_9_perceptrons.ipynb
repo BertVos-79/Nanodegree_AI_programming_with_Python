{
 "cells": [
  {
   "cell_type": "code",
   "execution_count": 1,
   "metadata": {
    "grader_id": "lz4ffelzky"
   },
   "outputs": [
    {
     "name": "stdout",
     "output_type": "stream",
     "text": [
      "Hidden-layer Output:\n",
      "[0.41492192 0.42604313 0.5002434 ]\n",
      "Output-layer Output:\n",
      "[0.49815196 0.48539772]\n",
      "Good job! You got the correct calculation on the hidden layer.\n"
     ]
    }
   ],
   "source": [
    "import numpy as np\n",
    "\n",
    "def sigmoid(x):\n",
    "    \"\"\"\n",
    "    Calculate the sigmoid activation function.\n",
    "    \"\"\"\n",
    "    return 1 / (1 + np.exp(-x))\n",
    "\n",
    "# Network size\n",
    "N_input = 4    # Number of input units\n",
    "N_hidden = 3   # Number of hidden units\n",
    "N_output = 2   # Number of output units\n",
    "\n",
    "np.random.seed(42)\n",
    "\n",
    "# Create fake input data (random)\n",
    "X = np.random.randn(N_input)\n",
    "\n",
    "# Initialize weights with small random values\n",
    "weights_input_to_hidden = np.random.normal(0, scale=0.1, size=(N_input, N_hidden))\n",
    "weights_hidden_to_output = np.random.normal(0, scale=0.1, size=(N_hidden, N_output))\n",
    "\n",
    "# TODO: Make a forward pass through the network (hidden layer)\n",
    "hidden_layer_in = np.dot(X, weights_input_to_hidden)  # Compute weighted sum of inputs\n",
    "hidden_layer_out = sigmoid(hidden_layer_in)           # Apply activation function\n",
    "\n",
    "# TODO: Forward pass through the output layer\n",
    "output_layer_in = np.dot(hidden_layer_out, weights_hidden_to_output)  # Compute output layer input\n",
    "output_layer_out = sigmoid(output_layer_in)  # Apply sigmoid activation\n",
    "\n",
    "print('Hidden-layer Output:')\n",
    "print(hidden_layer_out)\n",
    "\n",
    "print('Output-layer Output:')\n",
    "print(output_layer_out)\n",
    "\n",
    "### **Notebook grading**\n",
    "hidden_layer_in_ans = np.dot(X, weights_input_to_hidden)\n",
    "hidden_layer_out_ans = sigmoid(hidden_layer_in_ans)\n",
    "\n",
    "test_hidden_layer_in = hidden_layer_in_ans == hidden_layer_in\n",
    "test_hidden_layer_out = hidden_layer_out_ans == hidden_layer_out\n",
    "\n",
    "if test_hidden_layer_out.all():\n",
    "    print(\"Good job! You got the correct calculation on the hidden layer.\")\n",
    "else:\n",
    "    print(f\"Try again. hidden_layer_out should be {hidden_layer_out_ans}\")\n"
   ]
  }
 ],
 "metadata": {
  "kernelspec": {
   "display_name": "Python 3 (ipykernel)",
   "language": "python",
   "name": "python3"
  },
  "language_info": {
   "codemirror_mode": {
    "name": "ipython",
    "version": 3
   },
   "file_extension": ".py",
   "mimetype": "text/x-python",
   "name": "python",
   "nbconvert_exporter": "python",
   "pygments_lexer": "ipython3",
   "version": "3.8.18"
  }
 },
 "nbformat": 4,
 "nbformat_minor": 4
}
