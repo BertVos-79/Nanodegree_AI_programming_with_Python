{
 "cells": [
  {
   "cell_type": "code",
   "execution_count": 4,
   "id": "cdcf5012-3b89-4baa-97ff-5b7e255930ee",
   "metadata": {},
   "outputs": [
    {
     "name": "stdin",
     "output_type": "stream",
     "text": [
      "Please enter your first and last name:  Bert Vos\n"
     ]
    },
    {
     "name": "stdout",
     "output_type": "stream",
     "text": [
      "The AI scientist for the letter 'B' is: B: Barbara Grosz\n"
     ]
    }
   ],
   "source": [
    "def main():\n",
    "    # Create the scientist dictionary\n",
    "    filepath = \"/Users/bertvos/Documents/Notebooks/Udacity/AI_Programming_Nanodegree/course_1_Python/5_practicalities/scientists.txt\"\n",
    "    scientist_dict = create_scientist_dict(filepath)\n",
    "    if scientist_dict:\n",
    "        get_scientist_name(scientist_dict)\n",
    "\n",
    "def create_scientist_dict(filename):\n",
    "    \"\"\"Reads the file and creates a dictionary with the first letter as key and AI scientist names as values.\"\"\"\n",
    "    scientist_dict = {}\n",
    "    try:\n",
    "        with open(filename, \"r\") as file:\n",
    "            for line in file:\n",
    "                parts = line.strip().split(',')\n",
    "                if parts:\n",
    "                    name = parts[0].strip()\n",
    "                    first_letter = name[0].upper()\n",
    "                    scientist_dict[first_letter] = name\n",
    "    except FileNotFoundError:\n",
    "        print(f\"The file {filename} was not found.\")\n",
    "    return scientist_dict\n",
    "\n",
    "def get_scientist_name(scientist_dict):\n",
    "    \"\"\"Prompts the user for their first and last name, and returns the corresponding AI scientist's name.\"\"\"\n",
    "    user_input = input(\"Please enter your first and last name: \").strip()\n",
    "    \n",
    "    # Validate the input\n",
    "    if not user_input or len(user_input.split()) < 2:\n",
    "        print(\"Invalid input. Please enter both your first and last name.\")\n",
    "        return\n",
    "    \n",
    "    first_name = user_input.split()[0]\n",
    "    first_letter = first_name[0].upper()\n",
    "    \n",
    "    # Lookup the AI scientist's name in the dictionary\n",
    "    if first_letter in scientist_dict:\n",
    "        print(f\"The AI scientist for the letter '{first_letter}' is: {scientist_dict[first_letter]}\")\n",
    "    else:\n",
    "        print(f\"No AI scientist found for the letter '{first_letter}'.\")\n",
    "\n",
    "if __name__ == \"__main__\":\n",
    "    main()\n",
    "    \n"
   ]
  },
  {
   "cell_type": "code",
   "execution_count": null,
   "id": "b18e44ca-710f-4c0f-b212-d8273aacdfd1",
   "metadata": {},
   "outputs": [],
   "source": []
  }
 ],
 "metadata": {
  "kernelspec": {
   "display_name": "Python (AI_Nanodegree)",
   "language": "python",
   "name": "ai_nanodegree"
  },
  "language_info": {
   "codemirror_mode": {
    "name": "ipython",
    "version": 3
   },
   "file_extension": ".py",
   "mimetype": "text/x-python",
   "name": "python",
   "nbconvert_exporter": "python",
   "pygments_lexer": "ipython3",
   "version": "3.8.20"
  }
 },
 "nbformat": 4,
 "nbformat_minor": 5
}
