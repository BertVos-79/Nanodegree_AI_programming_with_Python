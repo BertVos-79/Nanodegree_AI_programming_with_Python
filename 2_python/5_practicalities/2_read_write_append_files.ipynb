{
 "cells": [
  {
   "cell_type": "code",
   "execution_count": 11,
   "metadata": {},
   "outputs": [
    {
     "name": "stdout",
     "output_type": "stream",
     "text": [
      "['Alan Turing', 'Barbara Grosz', 'Cynthia Dwork', 'Daphne Koller', 'Erik Brynjolfsson', 'Fei-Fei Li', 'Geoffrey Hinton', 'Hilary Mason', 'Ian Goodfellow', 'Judea Pearl', 'Kunihiko Fukushima', 'Leslie Valiant', 'Marvin Minsky', 'Nando de Freitas', 'Oren Etzioni', 'Peter Norvig', 'Qiang Yang', 'Rodney Brooks', 'Stuart Russell', 'Tim Berners-Lee', 'Ursula Martin', 'Vladimir Vapnik', 'Wendy Hall', 'Xiaojin Zhu', 'Yann LeCun', 'Zoubin Ghahramani']\n",
      "\n",
      "Well done again!\n"
     ]
    }
   ],
   "source": [
    "def create_scientist_list(filename):\n",
    "    \"\"\"Reads the file and extracts a list of AI scientist names.\"\"\"\n",
    "    scientist_list = []\n",
    "    try:\n",
    "        with open(filename, \"r\") as file:\n",
    "            for line in file:\n",
    "                parts = line.split(\",\")\n",
    "                if parts:\n",
    "                    name = parts[0].strip()\n",
    "                    scientist_list.append(name)\n",
    "    except FileNotFoundError:\n",
    "        print(f\"The file {filename} was not found.\")\n",
    "    return scientist_list\n",
    "\n",
    "\n",
    "# Create scientist list from the file\n",
    "scientist_list = create_scientist_list(\n",
    "    \"/Users/bertvos/Documents/Notebooks/Udacity/AI_Programming_Nanodegree/course_1_Python/5_practicalities/ai_scientist.txt\"\n",
    ")\n",
    "print(scientist_list)\n",
    "\n",
    "# The correct result list for grading\n",
    "correct_result = [\n",
    "    \"Alan Turing\",\n",
    "    \"Barbara Grosz\",\n",
    "    \"Cynthia Dwork\",\n",
    "    \"Daphne Koller\",\n",
    "    \"Erik Brynjolfsson\",\n",
    "    \"Fei-Fei Li\",\n",
    "    \"Geoffrey Hinton\",\n",
    "    \"Hilary Mason\",\n",
    "    \"Ian Goodfellow\",\n",
    "    \"Judea Pearl\",\n",
    "    \"Kunihiko Fukushima\",\n",
    "    \"Leslie Valiant\",\n",
    "    \"Marvin Minsky\",\n",
    "    \"Nando de Freitas\",\n",
    "    \"Oren Etzioni\",\n",
    "    \"Peter Norvig\",\n",
    "    \"Qiang Yang\",\n",
    "    \"Rodney Brooks\",\n",
    "    \"Stuart Russell\",\n",
    "    \"Tim Berners-Lee\",\n",
    "    \"Ursula Martin\",\n",
    "    \"Vladimir Vapnik\",\n",
    "    \"Wendy Hall\",\n",
    "    \"Xiaojin Zhu\",\n",
    "    \"Yann LeCun\",\n",
    "    \"Zoubin Ghahramani\",\n",
    "]\n",
    "\n",
    "# Notebook grading\n",
    "if scientist_list == correct_result:\n",
    "    print(\"\\nWell done again!\")\n",
    "else:\n",
    "    print(\n",
    "        \"Your code produced the wrong result when running on the `ai_scientists.txt`.\"\n",
    "    )"
   ]
  },
  {
   "cell_type": "code",
   "execution_count": null,
   "metadata": {},
   "outputs": [],
   "source": []
  }
 ],
 "metadata": {
  "kernelspec": {
   "display_name": "Python 3 (ipykernel)",
   "language": "python",
   "name": "python3"
  },
  "language_info": {
   "codemirror_mode": {
    "name": "ipython",
    "version": 3
   },
   "file_extension": ".py",
   "mimetype": "text/x-python",
   "name": "python",
   "nbconvert_exporter": "python",
   "pygments_lexer": "ipython3",
   "version": "3.8.20"
  }
 },
 "nbformat": 4,
 "nbformat_minor": 4
}
