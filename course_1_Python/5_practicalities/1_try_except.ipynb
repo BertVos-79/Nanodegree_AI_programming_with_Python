{
 "cells": [
  {
   "cell_type": "markdown",
   "id": "ff961df2-860c-4354-8307-dfe4974e7f66",
   "metadata": {},
   "source": [
    "## Tasks:\n",
    "\n",
    "### Modify the resource_allocator Function:\n",
    "\n",
    "Write a function named resource_allocator(resources, tasks) that:\n",
    "\n",
    "- Takes the number of resources and tasks as inputs.\n",
    "- Uses a try-except block to handle division by zero errors.\n",
    "- If the number of tasks is zero, raises a ZeroDivisionError with a custom error message.\n",
    "- If no error occurs, calculates how many resources each task gets and the number of leftover resources.\n",
    "- Returns the number of resources per task and the number of leftovers, or None values if an error occurs.\n",
    "\n",
    "\n",
    "### Validate Input in the Main Loop:\n",
    "\n",
    "Write a main() function that:\n",
    "\n",
    "- Initializes a loop that continues as long as the user wants to optimize resource allocation.\n",
    "- Prompts the user to input the number of resources (cookies) and the number of tasks (people).\n",
    "- Uses a try-except block to handle invalid inputs (e.g., non-integer values) and prints an appropriate error message.\n",
    "- Checks if the input values are positive. If not, prints an error message and prompts the user to enter valid positive numbers.\n",
    "- Calls the resource_allocator function with the user inputs and captures the returned values.\n",
    "- If the resource allocation is successful (i.e., the function does not return None values), prints the allocation results in a formatted message.\n",
    "- Asks the user if they want to continue optimizing, and exits the loop if the answer is 'n' (no).\n"
   ]
  },
  {
   "cell_type": "code",
   "execution_count": 1,
   "id": "446f359f-e2c4-4780-aeb4-7cf508891d57",
   "metadata": {},
   "outputs": [
    {
     "name": "stdin",
     "output_type": "stream",
     "text": [
      "How many computational resources (computers) are available?  4\n",
      "How many tasks (people) need resources?  56\n"
     ]
    },
    {
     "name": "stdout",
     "output_type": "stream",
     "text": [
      "\n",
      "Resource Allocation: We'll have 56 tasks, each will get 0 resources, and we'll have 4 resources left over.\n"
     ]
    },
    {
     "name": "stdin",
     "output_type": "stream",
     "text": [
      "\n",
      "Would you like to optimize more? (y or n)  y\n",
      "How many computational resources (computers) are available?  6\n",
      "How many tasks (people) need resources?  4\n"
     ]
    },
    {
     "name": "stdout",
     "output_type": "stream",
     "text": [
      "\n",
      "Resource Allocation: We'll have 4 tasks, each will get 1 resources, and we'll have 2 resources left over.\n"
     ]
    },
    {
     "name": "stdin",
     "output_type": "stream",
     "text": [
      "\n",
      "Would you like to optimize more? (y or n)  n\n"
     ]
    }
   ],
   "source": [
    "def resource_allocator(resources, tasks):\n",
    "    \"\"\"Allocates resources to tasks and handles division by zero errors.\"\"\"\n",
    "    try:\n",
    "        resources_per_task = resources // tasks\n",
    "        leftovers = resources % tasks\n",
    "    except ZeroDivisionError:\n",
    "        print(\"You cannot divide by zero.\")\n",
    "        return None, None\n",
    "    return resources_per_task, leftovers\n",
    "\n",
    "\n",
    "def main():\n",
    "    lets_optimize = 'y'\n",
    "    while lets_optimize == 'y':\n",
    "        try:\n",
    "            resources = int(input(\"How many computational resources (computers) are available? \"))\n",
    "            if resources < 0:\n",
    "                print(\"Number of resources cannot be negative. Please enter a positive number.\")\n",
    "                continue\n",
    "\n",
    "            tasks = int(input(\"How many tasks (people) need resources? \"))\n",
    "            if tasks < 0:\n",
    "                print(\"Number of tasks cannot be negative. Please enter a positive number.\")\n",
    "                continue\n",
    "\n",
    "            resources_each, leftovers = resource_allocator(resources, tasks)\n",
    "\n",
    "            if resources_each is not None:\n",
    "                print(f\"\\nResource Allocation: We'll have {tasks} tasks, each will get {resources_each} resources, and we'll have {leftovers} resources left over.\")\n",
    "                \n",
    "\n",
    "            lets_optimize = input(\"\\nWould you like to optimize more? (y or n) \").lower()\n",
    "        except ValueError:\n",
    "            print(\"Invalid input. Please enter a valid number.\")\n",
    "\n",
    "if __name__ == \"__main__\":\n",
    "    main()\n"
   ]
  },
  {
   "cell_type": "code",
   "execution_count": null,
   "id": "e1c78fe3-0e1f-466a-9201-75dfeae8141a",
   "metadata": {},
   "outputs": [],
   "source": []
  }
 ],
 "metadata": {
  "kernelspec": {
   "display_name": "Python (AI_Nanodegree)",
   "language": "python",
   "name": "ai_nanodegree"
  },
  "language_info": {
   "codemirror_mode": {
    "name": "ipython",
    "version": 3
   },
   "file_extension": ".py",
   "mimetype": "text/x-python",
   "name": "python",
   "nbconvert_exporter": "python",
   "pygments_lexer": "ipython3",
   "version": "3.8.20"
  }
 },
 "nbformat": 4,
 "nbformat_minor": 5
}
