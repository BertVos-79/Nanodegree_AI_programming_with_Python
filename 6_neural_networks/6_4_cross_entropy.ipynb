{
 "cells": [
  {
   "cell_type": "code",
   "execution_count": 1,
   "metadata": {},
   "outputs": [],
   "source": [
    "import numpy as np\n",
    "# TODO: complete the function\n",
    "def cross_entropy(Y, P):\n",
    "    \"\"\"\n",
    "    Computes the cross-entropy loss for binary classification.\n",
    "\n",
    "    Parameters:\n",
    "    Y (list of int): A list of true labels (each element is either 0 or 1).\n",
    "    P (list of float): A list of predicted probabilities (each element is between 0 and 1).\n",
    "\n",
    "    Returns:\n",
    "    float: The cross-entropy loss.\n",
    "    \"\"\"\n",
    "    Y = np.array(Y)  # Convert to NumPy arrays\n",
    "    P = np.array(P)\n",
    "\n",
    "    # Compute cross-entropy loss\n",
    "    return -np.sum(Y * np.log(P) + (1 - Y) * np.log(1 - P))"
   ]
  },
  {
   "cell_type": "code",
   "execution_count": null,
   "metadata": {},
   "outputs": [],
   "source": []
  }
 ],
 "metadata": {
  "kernelspec": {
   "display_name": "Python 3 (ipykernel)",
   "language": "python",
   "name": "python3"
  },
  "language_info": {
   "codemirror_mode": {
    "name": "ipython",
    "version": 3
   },
   "file_extension": ".py",
   "mimetype": "text/x-python",
   "name": "python",
   "nbconvert_exporter": "python",
   "pygments_lexer": "ipython3",
   "version": "3.8.18"
  }
 },
 "nbformat": 4,
 "nbformat_minor": 4
}
