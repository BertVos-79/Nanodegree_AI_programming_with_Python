{
 "cells": [
  {
   "cell_type": "markdown",
   "metadata": {},
   "source": [
    "## Quiz: Analyzing AI Model Output Text\n",
    "### Scenario:\n",
    "You are analyzing the output of an AI model from a recent project. You need to answer specific questions about the text using string methods.\n",
    "\n",
    "### Task:\n",
    "Answer the following questions about the string variable model_output:\n",
    "\n",
    "1. What is the length of the string variable model_output?\n",
    "2. What is the index of the first occurrence of the word 'accuracy' in model_output?\n",
    "3. What is the index of the last occurrence of the word 'model' in model_output?\n",
    "4. What is the count of occurrences of the word 'model' in model_output?\n",
    "5. Tokenize the model_output into individual words.\n",
    "6. Perform a basic sentiment analysis by counting the number of positive and negative words in the model_output."
   ]
  },
  {
   "cell_type": "code",
   "execution_count": 11,
   "metadata": {},
   "outputs": [
    {
     "name": "stdout",
     "output_type": "stream",
     "text": [
      "The AI model achieved an accuracy of 92.5% in the initial tests.\n",
      "The model's performance was consistent across different datasets.\n",
      "Further tuning of the model hyperparameters improved the accuracy to 94%.\n",
      "This model is now ready for deployment in the production environment.\n",
      "Model performance will be monitored continuously to ensure it meets the expected standards.\n",
      "--------------------------------------------------\n",
      "The length of the model output string is 366 characters.\n",
      "The first occurrence of the word 'accuracy' is at index 25.\n",
      "The last occurrence of the word 'model' is at index 210.\n",
      "The word 'model' occurs 4 times in the model output.\n",
      "The tokenized model output is: ['The', 'AI', 'model', 'achieved', 'an', 'accuracy', 'of', '92.5%', 'in', 'the', 'initial', 'tests', 'The', \"model's\", 'performance', 'was', 'consistent', 'across', 'different', 'datasets', 'Further', 'tuning', 'of', 'the', 'model', 'hyperparameters', 'improved', 'the', 'accuracy', 'to', '94%', 'This', 'model', 'is', 'now', 'ready', 'for', 'deployment', 'in', 'the', 'production', 'environment', 'Model', 'performance', 'will', 'be', 'monitored', 'continuously', 'to', 'ensure', 'it', 'meets', 'the', 'expected', 'standards.']\n",
      "The total number of positive words in the reference list is: 6\n",
      "The total number of negative words in the reference list is: 2\n",
      "There are 5 occurences of the positive words from the reference list in this text.\n",
      "There are 1 occurences of the negative words from the reference list in this text.\n"
     ]
    }
   ],
   "source": [
    "model_output = \"The AI model achieved an accuracy of 92.5% in the initial tests.\\nThe model's performance was consistent across different datasets.\\nFurther tuning of the model hyperparameters improved the accuracy to 94%.\\nThis model is now ready for deployment in the production environment.\\nModel performance will be monitored continuously to ensure it meets the expected standards.\"\n",
    "\n",
    "print(model_output)\n",
    "print(\"-\"*50)\n",
    "\n",
    "# Answer the questions\n",
    "length_of_model_output = len(model_output)\n",
    "index_first_accuracy = model_output.find(\"accuracy\")\n",
    "index_last_model = model_output.rfind(\"model\")\n",
    "count_model = model_output.count(\"model\")\n",
    "\n",
    "# Tokenize the model_output into individual words\n",
    "tokens = model_output.replace(\".\\n\", \" \").split()\n",
    "\n",
    "# Perform a basic sentiment analysis\n",
    "positive_words = ['achieved', 'consistent', 'improved', 'ready', 'meets', 'obtains']\n",
    "negative_words = ['monitored', 'overflow']\n",
    "\n",
    "# Length of reference lists with + and - words\n",
    "number_positives = len(positive_words)\n",
    "number_negatives = len(negative_words)\n",
    "\n",
    "# Occurences of these + or - in list 'tokens'\n",
    "count_positives = len([token for token in tokens if token in positive_words])\n",
    "count_negatives = len([token for token in tokens if token in negative_words])\n",
    "\n",
    "# Output your answers in descriptive messages\n",
    "print(f\"The length of the model output string is {length_of_model_output} characters.\")\n",
    "print(f\"The first occurrence of the word 'accuracy' is at index {index_first_accuracy}.\")\n",
    "print(f\"The last occurrence of the word 'model' is at index {index_last_model}.\")\n",
    "print(f\"The word 'model' occurs {count_model} times in the model output.\")\n",
    "print(f\"The tokenized model output is: {tokens}\")\n",
    "print(f\"The total number of positive words in the reference list is: {number_positives}\")\n",
    "print(f\"The total number of negative words in the reference list is: {number_negatives}\")\n",
    "print(f\"There are {count_positives} occurences of the positive words from the reference list in this text.\")\n",
    "print(f\"There are {count_negatives} occurences of the negative words from the reference list in this text.\")"
   ]
  },
  {
   "cell_type": "markdown",
   "metadata": {},
   "source": [
    "**About Sentiment Analysis**\n",
    "\n",
    "Sentiment analysis is a natural language processing (NLP) technique used to determine the sentiment expressed in a piece of text. It involves classifying text as positive, negative, or neutral based on the words and context. Sentiment analysis is commonly used to analyze customer feedback, social media posts, and product reviews to gauge public opinion and understand how people feel about a particular subject or entity."
   ]
  }
 ],
 "metadata": {
  "kernelspec": {
   "display_name": "Python 3 (ipykernel)",
   "language": "python",
   "name": "python3"
  },
  "language_info": {
   "codemirror_mode": {
    "name": "ipython",
    "version": 3
   },
   "file_extension": ".py",
   "mimetype": "text/x-python",
   "name": "python",
   "nbconvert_exporter": "python",
   "pygments_lexer": "ipython3",
   "version": "3.8.20"
  }
 },
 "nbformat": 4,
 "nbformat_minor": 4
}
