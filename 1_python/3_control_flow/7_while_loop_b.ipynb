{
 "cells": [
  {
   "cell_type": "markdown",
   "metadata": {},
   "source": [
    "## Exercise 1: Count Image Batches\n",
    "\n",
    "#### Problem Statement: \n",
    "\n",
    "Given a total number of images (total_images) and a batch_size, use a loop to simulate processing the images in batches. Each iteration of the loop should add batch_size to processed_images until all images are processed or processed_images meets or exceeds total_images.\n",
    "\n",
    "**Example Input**:\n",
    "```python\n",
    "total_images = 100\n",
    "batch_size = 20\n",
    "```\n",
    "\n",
    "**Example Output**:\n",
    "```python\n",
    "processed_images = 100\n",
    "```"
   ]
  },
  {
   "cell_type": "code",
   "execution_count": 1,
   "metadata": {},
   "outputs": [
    {
     "name": "stdout",
     "output_type": "stream",
     "text": [
      "Good job!\n"
     ]
    }
   ],
   "source": [
    "# Total images and batch size\n",
    "total_images = 100\n",
    "batch_size = 20\n",
    "\n",
    "# Initialize processed images count\n",
    "processed_images = 0\n",
    "\n",
    "# While loop to process images in batches\n",
    "while processed_images < total_images:\n",
    "    processed_images += batch_size\n",
    "\n",
    "### Notebook grading\n",
    "def get_solution(total_images, batch_size):\n",
    "    processed_images = 0\n",
    "    while processed_images < total_images:\n",
    "        processed_images += batch_size\n",
    "    return processed_images\n",
    "\n",
    "correct = get_solution(total_images, batch_size)\n",
    "\n",
    "if processed_images == correct:\n",
    "    print(\"Good job!\")\n",
    "else:\n",
    "    print(\"Oops! It doesn't look like the expected answer.\")"
   ]
  },
  {
   "cell_type": "markdown",
   "metadata": {},
   "source": [
    "## Exercise 2: Validate Batch Processing\n",
    "\n",
    "#### Problem Statement:\n",
    "Given total_images and batch_size, implement a batch processing check that:\n",
    "\n",
    "- Returns total_images if the number of images is less than the batch size.\n",
    "- Otherwise, processes the images in batches until all images are processed.\n",
    "\n",
    "#### Instructions:\n",
    "\n",
    "- Check if total_images is less than batch_size. If true, set result to total_images.\n",
    "- If not, use a loop to simulate batch processing by adding batch_size to processed_images until processed_images meets or exceeds total_images.\n",
    "- \n",
    "**Example Input**:\n",
    "```python\n",
    "total_images = 100\n",
    "batch_size = 20\n",
    "```\n",
    "\n",
    "**Example Output**:\n",
    "```python\n",
    "result = 100\n",
    "```\n",
    "\n",
    "**Example Input with total_images < batch_size**:\n",
    "```python\n",
    "total_images = 10\n",
    "batch_size = 20\n",
    "```\n",
    "\n",
    "**Example Output**:\n",
    "```python\n",
    "result = 10\n",
    "```"
   ]
  },
  {
   "cell_type": "code",
   "execution_count": 14,
   "metadata": {},
   "outputs": [
    {
     "name": "stdout",
     "output_type": "stream",
     "text": [
      "Good job!\n"
     ]
    }
   ],
   "source": [
    "total_images = 100\n",
    "batch_size = 20\n",
    "processed_images = 0\n",
    "# Check if batch processing is necessary\n",
    "\n",
    "if total_images < batch_size:\n",
    "    result = total_images\n",
    "else:\n",
    "    while processed_images < total_images:\n",
    "        processed_images += batch_size\n",
    "        total_images -= batch_size\n",
    "    result = total_images\n",
    "\n",
    "### Notebook grading\n",
    "def get_solution(total_images, batch_size):\n",
    "    if total_images < batch_size:\n",
    "        return total_images\n",
    "    else:\n",
    "        processed_images = 0\n",
    "        while processed_images < total_images:\n",
    "            processed_images += batch_size\n",
    "        return processed_images\n",
    "\n",
    "correct_ans = get_solution(total_images, batch_size)\n",
    "\n",
    "if result == correct_ans:\n",
    "    print(\"Good job!\")\n",
    "else:\n",
    "    print(\"Oops! It doesn't look like the expected answer.\")"
   ]
  },
  {
   "cell_type": "markdown",
   "metadata": {},
   "source": [
    "## Exercise 3: Find Nearest Batch Size\n",
    "\n",
    "#### Problem Statement: \n",
    "\n",
    "Given an integer limit, use a while loop to find the largest perfect square (batch size) less than limit. Store this value in nearest_batch.\n",
    "\n",
    "A perfect square is a number that can be expressed as an integer multiplied by itself (e.g., 6×6=36).\n",
    "\n",
    "\n",
    "**Example Input**:\n",
    "```python\n",
    "limit = 50\n",
    "```\n",
    "\n",
    "**Example Output**:\n",
    "```python\n",
    "nearest_batch = 36\n",
    "```"
   ]
  },
  {
   "cell_type": "code",
   "execution_count": 23,
   "metadata": {},
   "outputs": [
    {
     "name": "stdout",
     "output_type": "stream",
     "text": [
      "Good job!\n"
     ]
    }
   ],
   "source": [
    "# Limit and initial values\n",
    "limit = 50\n",
    "nearest_batch = 0\n",
    "power = 2\n",
    "current_value = 0\n",
    "\n",
    "# While loop to find the largest perfect square less than limit\n",
    "while (current_value + 1)** power < limit:\n",
    "    current_value += 1\n",
    "    nearest_batch = current_value ** power\n",
    "\n",
    "### Notebook grading\n",
    "def get_solution(limit):\n",
    "    current_value = 0\n",
    "    while (current_value + 1)**2 < limit:\n",
    "        current_value += 1\n",
    "        nearest_batch = current_value**2\n",
    "    return nearest_batch\n",
    "\n",
    "correct_ans = get_solution(limit)\n",
    "\n",
    "if nearest_batch == correct_ans:\n",
    "    print(\"Good job!\")\n",
    "else:\n",
    "    print(\"Not quite. Did you assign your result to `nearest_batch`?\")"
   ]
  },
  {
   "cell_type": "code",
   "execution_count": null,
   "metadata": {},
   "outputs": [],
   "source": []
  }
 ],
 "metadata": {
  "kernelspec": {
   "display_name": "Python 3 (ipykernel)",
   "language": "python",
   "name": "python3"
  },
  "language_info": {
   "codemirror_mode": {
    "name": "ipython",
    "version": 3
   },
   "file_extension": ".py",
   "mimetype": "text/x-python",
   "name": "python",
   "nbconvert_exporter": "python",
   "pygments_lexer": "ipython3",
   "version": "3.8.20"
  }
 },
 "nbformat": 4,
 "nbformat_minor": 4
}
