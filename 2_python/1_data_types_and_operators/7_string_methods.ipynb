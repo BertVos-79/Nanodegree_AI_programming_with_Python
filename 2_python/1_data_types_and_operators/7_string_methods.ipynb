{
 "cells": [
  {
   "cell_type": "markdown",
   "metadata": {},
   "source": [
    "## Quiz 1: String Method Playground\n",
    "### Scenario:\n",
    "You are working on an NLP project and need to preprocess some text data. Explore different string methods and see how they can be used to manipulate text data.\n",
    "\n",
    "### Task:\n",
    "Browse the complete list of string methods at Python String Methods and try them out in the cell below.\n",
    "\n",
    "Link:\n",
    "https://docs.python.org/3/library/stdtypes.html#string-methods"
   ]
  },
  {
   "cell_type": "code",
   "execution_count": 11,
   "metadata": {},
   "outputs": [
    {
     "name": "stdout",
     "output_type": "stream",
     "text": [
      "Lowercase: hello, world! this is a sample text for nlp tasks.\n",
      "Replaced text: Hello, Universe! This is a sample text for NLP tasks.\n",
      "Words: ['Hello,', 'World!', 'This', 'is', 'a', 'sample', 'text', 'for', 'NLP', 'tasks.']\n",
      "capitalize: Hello, world!\n",
      "casefold: hello, world!\n",
      "isalnum: False\n",
      "isalpha: False\n",
      "isascii: True\n",
      "isdecimal: False\n",
      "isdigit: False\n",
      "isidentifier: False\n",
      "islower: False\n",
      "isnumeric: False\n",
      "isprintable: True\n",
      "isspace: False\n",
      "istitle: True\n",
      "isupper: False\n",
      "lower: hello, world!\n",
      "upper: HELLO, WORLD!\n",
      "strip: Hello, World!\n"
     ]
    }
   ],
   "source": [
    "# Example usage of some string methods\n",
    "sample_text = \"Hello, World! This is a sample text for NLP tasks.\"\n",
    "\n",
    "# Convert the text to lowercase\n",
    "lower_text = sample_text.lower()\n",
    "print(\"Lowercase:\", lower_text)\n",
    "\n",
    "# Replace 'World' with 'Universe'\n",
    "replaced_text = sample_text.replace(\"World\", \"Universe\")\n",
    "print(\"Replaced text:\", replaced_text)\n",
    "\n",
    "# Split the text into words\n",
    "words = sample_text.split()\n",
    "print(\"Words:\", words)\n",
    "\n",
    "# Try out more string methods from the Python documentation link provided\n",
    "\n",
    "test_string = \"Hello, World!\"\n",
    "str_methods = [\n",
    "    \"capitalize\",\n",
    "    \"casefold\",\n",
    "    \"isalnum\",\n",
    "    \"isalpha\",\n",
    "    \"isascii\",\n",
    "    \"isdecimal\",\n",
    "    \"isdigit\",\n",
    "    \"isidentifier\",\n",
    "    \"islower\",\n",
    "    \"isnumeric\",\n",
    "    \"isprintable\",\n",
    "    \"isspace\",\n",
    "    \"istitle\",\n",
    "    \"isupper\",\n",
    "    \"lower\",\n",
    "    \"upper\",\n",
    "    \"strip\",\n",
    "]\n",
    "\n",
    "def test_str_methods(test_str,methods):\n",
    "    results = []\n",
    "    for method in methods:\n",
    "        result = getattr(test_str, method)()\n",
    "        results.append(f\"{method}: {result}\")\n",
    "    return \"\\n\".join(results)\n",
    "\n",
    "print(test_str_methods(test_string,str_methods))\n"
   ]
  },
  {
   "cell_type": "markdown",
   "metadata": {},
   "source": [
    "## Quiz 2: Formatting Text for NLP\n",
    "### Scenario:\n",
    "You are preparing text data for an NLP task and need to format a sentence with specific values. This is useful for constructing training data or generating output text.\n",
    "\n",
    "### Task:\n",
    "Write two lines of code to assign values to two variables. Then, use the format() function to print out a sentence that includes the values of both variables."
   ]
  },
  {
   "cell_type": "code",
   "execution_count": 15,
   "metadata": {},
   "outputs": [
    {
     "name": "stdout",
     "output_type": "stream",
     "text": [
      "A string with the archaic .format method: 'The accuracy of BERT is 92.5%.'\n",
      "The same text, but easier and more readable with an f-string: 'The accuracy of BERT is 92.5%.\n"
     ]
    }
   ],
   "source": [
    "# Write two lines of code below, each assigning a value to a variable\n",
    "model_name = \"BERT\"\n",
    "accuracy = 92.5\n",
    "\n",
    "# Now write a print statement using .format() to print out a sentence and the values of both of the variables\n",
    "print(\"A string with the archaic .format method: 'The accuracy of {} is {}%.'\".format(model_name,accuracy))\n",
    "# But mmuch simpler with f-string since Python 3.6:\n",
    "print(f\"The same text, but easier and more readable with an f-string: 'The accuracy of {model_name} is {accuracy}%.\")"
   ]
  },
  {
   "cell_type": "markdown",
   "metadata": {},
   "source": [
    "**About BERT**\n",
    "\n",
    "BERT (Bidirectional Encoder Representations from Transformers) is a state-of-the-art NLP model developed by Google. It is designed to understand the context of words in a sentence by looking at both the left and right sides of the word. BERT has significantly improved the performance of NLP tasks such as text classification, named entity recognition, and question answering."
   ]
  }
 ],
 "metadata": {
  "kernelspec": {
   "display_name": "Python 3 (ipykernel)",
   "language": "python",
   "name": "python3"
  },
  "language_info": {
   "codemirror_mode": {
    "name": "ipython",
    "version": 3
   },
   "file_extension": ".py",
   "mimetype": "text/x-python",
   "name": "python",
   "nbconvert_exporter": "python",
   "pygments_lexer": "ipython3",
   "version": "3.8.20"
  }
 },
 "nbformat": 4,
 "nbformat_minor": 4
}
