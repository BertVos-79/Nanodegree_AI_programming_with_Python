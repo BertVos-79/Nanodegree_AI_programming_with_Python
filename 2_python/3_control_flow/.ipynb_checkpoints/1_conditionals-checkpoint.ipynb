{
 "cells": [
  {
   "cell_type": "markdown",
   "metadata": {},
   "source": [
    "# Evaluating Model Performance\n",
    "\n",
    "In this exercise, you will determine the performance of a machine learning model based on its accuracy. The accuracy of the model will be used to classify its performance into different categories.\n",
    "\n",
    "## Performance Categories:\n",
    "\n",
    "- 0.0 - 0.5: Poor performance\n",
    "- 0.51 - 0.75: Average performance\n",
    "- 0.76 - 0.90: Good performance\n",
    "- 0.91 - 1.0: Excellent performance\n",
    "\n",
    "## Problem Statement\n",
    "\n",
    "Write an if statement that lets a data scientist know the performance category of their machine learning model based on the accuracy score, which is stored in the float variable accuracy.\n",
    "\n",
    "## Instructions:\n",
    "\n",
    "Assign the result variable to a string holding the appropriate message based on the value of accuracy.\n",
    "\n",
    "- If the model's performance is classified as \"Poor performance\", the message should state \"Model performance: Poor.\"\n",
    "\n",
    "- If the model's performance is classified as \"Average performance\", the message should state \"Model performance: Average.\"\n",
    "\n",
    "- If the model's performance is classified as \"Good performance\", the message should state \"Model performance: Good.\"\n",
    "\n",
    "- If the model's performance is classified as \"Excellent performance\", the message should state \"Model performance: Excellent.\""
   ]
  },
  {
   "cell_type": "code",
   "execution_count": 2,
   "metadata": {},
   "outputs": [
    {
     "name": "stdout",
     "output_type": "stream",
     "text": [
      "Model performance: Good.\n",
      "Nice work!\n"
     ]
    }
   ],
   "source": [
    "accuracy = 0.85  # use this input to make your submission\n",
    "\n",
    "# write your if statement here\n",
    "if 0.0 <= accuracy <= 0.5: \n",
    "    result = \"Model performance: Poor.\"\n",
    "elif 0.51 <= accuracy <= 0.75:\n",
    "    result = \"Model performance: Average.\"\n",
    "elif 0.76 <= accuracy <= 0.90: \n",
    "    result = \"Model performance: Good.\"\n",
    "else:\n",
    "    result = \"Model performance: Excellent.\"\n",
    "\n",
    "# Check the result\n",
    "print(result)\n",
    "\n",
    "# Notebook grading\n",
    "if result == \"Model performance: Good.\":\n",
    "    print(\"Nice work!\")\n",
    "else:\n",
    "    print(\"Not quite! Are your result strings formatted correctly?\")"
   ]
  },
  {
   "cell_type": "code",
   "execution_count": null,
   "metadata": {},
   "outputs": [],
   "source": []
  }
 ],
 "metadata": {
  "kernelspec": {
   "display_name": "Python (AI_Nanodegree)",
   "language": "python",
   "name": "ai_nanodegree"
  },
  "language_info": {
   "codemirror_mode": {
    "name": "ipython",
    "version": 3
   },
   "file_extension": ".py",
   "mimetype": "text/x-python",
   "name": "python",
   "nbconvert_exporter": "python",
   "pygments_lexer": "ipython3",
   "version": "3.8.20"
  }
 },
 "nbformat": 4,
 "nbformat_minor": 4
}
