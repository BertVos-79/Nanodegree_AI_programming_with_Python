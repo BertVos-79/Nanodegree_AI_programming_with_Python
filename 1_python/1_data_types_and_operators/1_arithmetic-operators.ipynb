{
 "cells": [
  {
   "cell_type": "markdown",
   "metadata": {
    "grader_id": "7lekqvk4x7p"
   },
   "source": [
    "## Quiz 1: Evaluating Model Performance\n",
    "### Scenario:\n",
    "You are working on a project where you need to analyze the average prediction accuracy of a machine learning model over the last three months. The accuracy scores for the last three months are 85.5%, 90.2%, and 87.3%.\n",
    "\n",
    "### Task:\n",
    "Write an expression to calculate the mean prediction accuracy over these three months."
   ]
  },
  {
   "cell_type": "code",
   "execution_count": 3,
   "metadata": {},
   "outputs": [
    {
     "name": "stdout",
     "output_type": "stream",
     "text": [
      "The mean accuracy score is 87.67%\n"
     ]
    }
   ],
   "source": [
    "def main():\n",
    "    acc_scores = [85.5,90.2,87.3]\n",
    "    print(f\"The average accuracy score over the last three months is {calc_mean(acc_scores):.2f}%\")\n",
    "\n",
    "def calc_mean(ls):\n",
    "    return sum(ls)/len(ls)\n",
    "\n",
    "if __name__ == \"__main__\":\n",
    "    main()"
   ]
  },
  {
   "cell_type": "markdown",
   "metadata": {
    "grader_id": "4flfl933k86"
   },
   "source": [
    "## Quiz 2: Managing Data Storage for Machine Learning Projects\n",
    "### Scenario:\n",
    "You are optimizing the data storage for a machine learning project. You have two datasets of image files for training. One dataset contains 4000 images, and the other contains 3000 images. Each image is 256KB in size. Additionally, you receive a new storage device with 2048MB capacity.\n",
    "\n",
    "### Tasks:\n",
    "\n",
    "1. Calculate the total storage needed for both datasets in MB.\n",
    "2. Determine how much storage will be left after storing all images on the new device in MB."
   ]
  },
  {
   "cell_type": "code",
   "execution_count": 6,
   "metadata": {},
   "outputs": [
    {
     "name": "stdout",
     "output_type": "stream",
     "text": [
      "Total storage needed: 1750.00 MB\n",
      "Storage left: 298.00 MB\n"
     ]
    }
   ],
   "source": [
    "def main():\n",
    "    storage = 2048\n",
    "    files_d = {\"dataset1\":4000,\"dataset2\":3000}\n",
    "    storage_used = calculate_used_storage(files_d)\n",
    "    print(f\"Total storage needed: {storage_used:.2f} MB\")\n",
    "    print(f\"Storage left: {calculate_left_storage(storage,storage_used):.2f} MB\")\n",
    "\n",
    "    \n",
    "def calculate_used_storage(files):\n",
    "    storage_used = 0\n",
    "    file_size = 256\n",
    "    for dataset in files:\n",
    "        storage_used += files[dataset] * file_size / 1024\n",
    "    return storage_used\n",
    "    \n",
    "\n",
    "def calculate_left_storage(st,used_st):\n",
    "    return st - used_st\n",
    "    \n",
    "\n",
    "if __name__ == \"__main__\":\n",
    "    main()"
   ]
  }
 ],
 "metadata": {
  "kernelspec": {
   "display_name": "Python 3 (ipykernel)",
   "language": "python",
   "name": "python3"
  },
  "language_info": {
   "codemirror_mode": {
    "name": "ipython",
    "version": 3
   },
   "file_extension": ".py",
   "mimetype": "text/x-python",
   "name": "python",
   "nbconvert_exporter": "python",
   "pygments_lexer": "ipython3",
   "version": "3.8.20"
  }
 },
 "nbformat": 4,
 "nbformat_minor": 4
}
