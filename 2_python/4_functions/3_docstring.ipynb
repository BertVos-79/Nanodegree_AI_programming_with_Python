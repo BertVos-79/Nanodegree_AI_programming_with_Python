{
 "cells": [
  {
   "cell_type": "markdown",
   "metadata": {},
   "source": [
    "## Exercise: Readable Time for Data Processing\n",
    "### Scenario:\n",
    "You are optimizing a machine learning pipeline, and you need to report the processing time of a dataset in a human-readable format. The time is provided in days, and you need to convert it to weeks and days to better communicate the processing schedule to the stakeholders.\n",
    "\n",
    "### Task:\n",
    "Write a function named readable_processing_time. The function should take one argument, an integer days, and return a string that says how many weeks and days that is."
   ]
  },
  {
   "cell_type": "code",
   "execution_count": 3,
   "metadata": {},
   "outputs": [
    {
     "name": "stdout",
     "output_type": "stream",
     "text": [
      "Nicely done, Bert!\n"
     ]
    }
   ],
   "source": [
    "def readable_processing_time(days):\n",
    "    \"\"\"\n",
    "    Convert processing time from days to a human-readable format of weeks and days.\n",
    "\n",
    "    This function takes the total number of processing days and converts it into weeks and days. \n",
    "    It divides the input `days` by 7 to determine the number of weeks and uses the remainder as \n",
    "    additional days. This is helpful for displaying time durations in a more stakeholder-friendly format.\n",
    "\n",
    "    Args:\n",
    "        days (int): The total processing time in days.\n",
    "\n",
    "    Returns:\n",
    "        str: A string representation of the processing time in the format \"X week(s) and Y day(s)\", \n",
    "             where X is the number of weeks and Y is the remaining days.\n",
    "\n",
    "    Example:\n",
    "        >>> readable_processing_time(10)\n",
    "        '1 week(s) and 3 day(s)'\n",
    "    \"\"\"\n",
    "    weeks = days // 7\n",
    "    remainder = days % 7\n",
    "    return f\"{weeks} week(s) and {remainder} day(s)\"\n",
    "\n",
    "### Notebook grading\n",
    "import inspect\n",
    "if 'readable_processing_time' not in locals():\n",
    "    print(\"Your code doesn't define the `readable_processing_time` function.\")\n",
    "elif inspect.getdoc(readable_processing_time) is None:\n",
    "    print(\"Your function doesn't have a docstring! Add one that explains the function's purpose.\")\n",
    "else:\n",
    "    print(\"Nicely done, Bert!\")\n"
   ]
  },
  {
   "cell_type": "code",
   "execution_count": null,
   "metadata": {},
   "outputs": [],
   "source": []
  }
 ],
 "metadata": {
  "kernelspec": {
   "display_name": "Python 3 (ipykernel)",
   "language": "python",
   "name": "python3"
  },
  "language_info": {
   "codemirror_mode": {
    "name": "ipython",
    "version": 3
   },
   "file_extension": ".py",
   "mimetype": "text/x-python",
   "name": "python",
   "nbconvert_exporter": "python",
   "pygments_lexer": "ipython3",
   "version": "3.8.20"
  }
 },
 "nbformat": 4,
 "nbformat_minor": 4
}
