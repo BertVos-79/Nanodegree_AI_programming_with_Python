{
 "cells": [
  {
   "cell_type": "markdown",
   "metadata": {},
   "source": [
    "### Exercise: Feature Summary for Tweet\n",
    "\n",
    "In this exercise, you'll concatenate model feature descriptions into a single string for a tweet, ensuring the final string does not exceed 140 characters.\n",
    "\n",
    "#### Problem Statement\n",
    "\n",
    "Given a list of model feature descriptions, concatenate them into a single string for a tweet. The final string should not exceed 140 characters.\n",
    "\n",
    "**Example Input**:\n",
    "```python\n",
    "features = [\n",
    "    \"Feature 1: High accuracy\",\n",
    "    \"Feature 2: Low latency\",\n",
    "    \"Feature 3: Scalability\",\n",
    "    \"Feature 4: Robustness\",\n",
    "    \"Feature 5: Interpretability\"\n",
    "    \"Feature 6: User-friendly interface\",\n",
    "    \"Feature 7: High availability\",\n",
    "    \"Feature 8: Multi-platform support\"\n",
    "]\n",
    "```\n",
    "\n",
    "**Instructions**:\n",
    "1. Initialize an empty string `feature_summary`.\n",
    "2. Iterate through the `features` list and concatenate each feature to `feature_summary` with a space in between.\n",
    "3. Ensure the final `feature_summary` does not exceed 140 characters."
   ]
  },
  {
   "cell_type": "code",
   "execution_count": 14,
   "metadata": {},
   "outputs": [
    {
     "name": "stdout",
     "output_type": "stream",
     "text": [
      "Length of feature_summary: 140.\n",
      "Feature summary:\n",
      "Feature 1: High accuracy Feature 2: Low latency Feature 3: Scalability Feature 4: Robustness Feature 5: InterpretabilityFeature 6: User-frie\n",
      "Well done!\n"
     ]
    }
   ],
   "source": [
    "features = [\n",
    "    \"Feature 1: High accuracy\",\n",
    "    \"Feature 2: Low latency\",\n",
    "    \"Feature 3: Scalability\",\n",
    "    \"Feature 4: Robustness\",\n",
    "    \"Feature 5: Interpretability\",\n",
    "    \"Feature 6: User-friendly interface\",\n",
    "    \"Feature 7: High availability\",\n",
    "    \"Feature 8: Multi-platform support\"\n",
    "]\n",
    "\n",
    "\n",
    "feature_summary = \"\"\n",
    "for feature in features:\n",
    "    if len(feature_summary) + len(feature) + (1 if feature_summary else 0) > 140:\n",
    "        feature_summary += feature[:140 - len(feature_summary)]\n",
    "        break\n",
    "    feature_summary += (\" \" if feature_summary else \"\") + feature\n",
    "\n",
    "print(f\"Length of feature_summary: {len(feature_summary)}.\\nFeature summary:\\n{feature_summary}\")\n",
    "\n",
    "\n",
    "### Notebook grading\n",
    "def get_solution(features):\n",
    "    feature_summary = \"\"\n",
    "    for feature in features:\n",
    "        if len(feature_summary) + len(feature) + 1 > 140:\n",
    "            feature_summary += feature[:140 - len(feature_summary)]\n",
    "            break\n",
    "        if feature_summary:\n",
    "            feature_summary += \" \"\n",
    "        feature_summary += feature\n",
    "\n",
    "    return feature_summary\n",
    "\n",
    "correct_ans = get_solution(features)\n",
    "\n",
    "if feature_summary == correct_ans:\n",
    "    print(\"Well done!\")\n",
    "else:\n",
    "    print(\"Make sure you're inserting spaces between each feature, and that the summary is exactly 140 characters long.\")"
   ]
  }
 ],
 "metadata": {
  "kernelspec": {
   "display_name": "Python 3 (ipykernel)",
   "language": "python",
   "name": "python3"
  },
  "language_info": {
   "codemirror_mode": {
    "name": "ipython",
    "version": 3
   },
   "file_extension": ".py",
   "mimetype": "text/x-python",
   "name": "python",
   "nbconvert_exporter": "python",
   "pygments_lexer": "ipython3",
   "version": "3.8.20"
  }
 },
 "nbformat": 4,
 "nbformat_minor": 4
}
